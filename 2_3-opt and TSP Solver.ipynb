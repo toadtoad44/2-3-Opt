{
 "cells": [
  {
   "cell_type": "code",
   "execution_count": 2,
   "metadata": {},
   "outputs": [],
   "source": [
    "import numpy as np\n",
    "import scipy as sp\n",
    "import pandas as pd\n",
    "import matplotlib as mpl\n",
    "import math\n",
    "from sklearn.model_selection import GridSearchCV\n",
    "from sklearn.decomposition import PCA\n",
    "from sklearn.linear_model import SGDClassifier\n",
    "from sklearn import datasets\n",
    "from sklearn.preprocessing import StandardScaler\n",
    "from sklearn.svm import LinearSVC\n",
    "from sklearn.preprocessing import PolynomialFeatures\n",
    "from sklearn.svm import SVC\n",
    "import matplotlib.pyplot as plt\n",
    "import sklearn.linear_model\n",
    "from matplotlib.pylab import rcParams\n",
    "from sklearn.linear_model import SGDRegressor\n",
    "from sklearn.metrics import mean_squared_error\n",
    "from sklearn.model_selection import train_test_split\n",
    "from sklearn.pipeline import Pipeline\n",
    "from sklearn.metrics import accuracy_score, confusion_matrix, precision_score\n",
    "from sklearn.metrics import recall_score, f1_score, roc_curve, roc_auc_score\n",
    "from sklearn.metrics import precision_recall_curve, auc\n",
    "%matplotlib inline\n",
    "from sklearn.ensemble import BaggingClassifier\n",
    "from sklearn.tree import DecisionTreeClassifier\n",
    "from sklearn.metrics import accuracy_score\n",
    "from sklearn.datasets import load_iris, make_moons\n",
    "from sklearn.ensemble import RandomForestClassifier\n",
    "from sklearn.model_selection import train_test_split\n",
    "from sklearn.ensemble import RandomForestRegressor\n",
    "from sklearn.ensemble import AdaBoostClassifier\n",
    "from sklearn.tree import DecisionTreeRegressor\n",
    "from matplotlib.pylab import rcParams\n",
    "from sklearn.ensemble import GradientBoostingRegressor\n",
    "from sklearn.datasets import make_classification\n",
    "from sklearn.ensemble import AdaBoostRegressor\n",
    "from sklearn.model_selection import RandomizedSearchCV\n",
    "from scipy.stats import uniform\n",
    "from scipy.io import loadmat\n",
    "from sklearn.mixture import GaussianMixture\n",
    "import imageio\n",
    "import numpy as np\n",
    "from PIL import Image, ImageFont, ImageDraw\n",
    "from PIL.ImageChops import add, subtract, multiply, difference, screen\n",
    "import PIL.ImageStat as stat\n",
    "from skimage.io import imread, imsave, imshow, show, imread_collection, imshow_collection\n",
    "from skimage import color, viewer, exposure, img_as_float, data\n",
    "from skimage.transform import SimilarityTransform, warp, swirl\n",
    "from skimage.util import invert, random_noise, montage\n",
    "import matplotlib.image as mpimg\n",
    "from scipy.ndimage import affine_transform, zoom\n",
    "from scipy import misc\n",
    "import matplotlib.cm as cm\n",
    "from sklearn.datasets import make_blobs\n",
    "from sklearn.cluster import KMeans\n",
    "from enum import Enum\n",
    "from itertools import cycle, islice, dropwhile\n",
    "import re"
   ]
  },
  {
   "cell_type": "code",
   "execution_count": 3,
   "metadata": {},
   "outputs": [],
   "source": [
    "class OptCase(Enum):\n",
    "    opt_case_1 = \"opt_case_1\"\n",
    "    opt_case_2 = \"opt_case_2\"\n",
    "    opt_case_3 = \"opt_case_3\"\n",
    "    opt_case_4 = \"opt_case_4\"\n",
    "    opt_case_5 = \"opt_case_5\"\n",
    "    opt_case_6 = \"opt_case_6\"\n",
    "    opt_case_7 = \"opt_case_7\"\n",
    "    opt_case_8 = \"opt_case_8\""
   ]
  },
  {
   "cell_type": "markdown",
   "metadata": {},
   "source": [
    " "
   ]
  },
  {
   "cell_type": "markdown",
   "metadata": {},
   "source": [
    "# 2-OPT Code"
   ]
  },
  {
   "cell_type": "markdown",
   "metadata": {},
   "source": [
    "Source: https://stackoverflow.com/questions/53275314/2-opt-algorithm-to-solve-the-travelling-salesman-problem-in-python"
   ]
  },
  {
   "cell_type": "markdown",
   "metadata": {},
   "source": [
    " "
   ]
  },
  {
   "cell_type": "markdown",
   "metadata": {},
   "source": [
    "Function Definition:"
   ]
  },
  {
   "cell_type": "code",
   "execution_count": 21,
   "metadata": {},
   "outputs": [],
   "source": [
    "def cost(cost_mat, route):\n",
    "    return cost_mat[np.roll(route, 1), route].sum()\n",
    "\n",
    "def two_opt(cost_mat,route):\n",
    "    best = route.copy()\n",
    "    improved = True\n",
    "    while improved:\n",
    "        improved = False\n",
    "        for i in range(1, len(route)-2):\n",
    "            for j in range(i+1, len(route)+1):\n",
    "                if j-i == 1: continue # changes nothing, skip then\n",
    "                new_route = route.copy()\n",
    "                new_route[i:j] = route[j-1:i-1:-1] # this is the 2woptSwap\n",
    "                if cost(cost_mat, new_route) < cost(cost_mat, best):\n",
    "                    best = new_route\n",
    "                    improved = True\n",
    "        route = best\n",
    "    return best, cost(cost_mat, best)"
   ]
  },
  {
   "cell_type": "markdown",
   "metadata": {},
   "source": [
    "Graph Definition and Print Out"
   ]
  },
  {
   "cell_type": "code",
   "execution_count": 37,
   "metadata": {},
   "outputs": [
    {
     "name": "stdout",
     "output_type": "stream",
     "text": [
      "Final Tour [0, 1, 2, 3, 4, 5, 6]\n",
      "Final Cost 50\n"
     ]
    }
   ],
   "source": [
    "#Use this to read in data sets, replace \"TSP1.txt\" with the name of the file\n",
    "data=np.array(pd.read_csv('3OPTBAD.txt', header=None, sep='\\s+', engine='python'))\n",
    "\n",
    "\n",
    "#If you want to manually build a distance matrix, you can do so here:\n",
    "# data_mat = np.array([\n",
    "# [0,2,80,1,80,80],\n",
    "# [2,0, 2, 80,1,80],\n",
    "# [80,2,0,2,80,1],\n",
    "# [1,80,2,0,2,80],\n",
    "# [80,1,80,2,0,2],\n",
    "#     [2,80,1,80,2,0]\n",
    "# ])\n",
    "\n",
    "\n",
    "route=[]\n",
    "route=[i for i in range(len(data))]\n",
    "\n",
    "#change input to (data_mat,route) when using a manually built matrix \n",
    "Tour, Cost = two_opt(data,route)\n",
    "print(\"Final Tour\", Tour)\n",
    "print(\"Final Cost\", Cost)"
   ]
  },
  {
   "cell_type": "markdown",
   "metadata": {},
   "source": [
    " "
   ]
  },
  {
   "cell_type": "markdown",
   "metadata": {},
   "source": [
    "# 3-OPT"
   ]
  },
  {
   "cell_type": "markdown",
   "metadata": {},
   "source": [
    "Source for the 3-OPT code: https://github.com/BraveDistribution/pytsp"
   ]
  },
  {
   "cell_type": "markdown",
   "metadata": {},
   "source": [
    "Function Definition:"
   ]
  },
  {
   "cell_type": "code",
   "execution_count": 34,
   "metadata": {},
   "outputs": [],
   "source": [
    "def cost(cost_mat, route):\n",
    "    return cost_mat[np.roll(route, 1), route].sum()\n",
    "\n",
    "def tsp_3_opt(graph, route=None):\n",
    "    lengty=len(graph)\n",
    "    route=[]\n",
    "    route=[i for i in range(lengty)]\n",
    "    moves_cost = {OptCase.opt_case_1: 0, OptCase.opt_case_2: 0,\n",
    "                  OptCase.opt_case_3: 0, OptCase.opt_case_4: 0, OptCase.opt_case_5: 0,\n",
    "                  OptCase.opt_case_6: 0, OptCase.opt_case_7: 0, OptCase.opt_case_8: 0}\n",
    "    improved = True\n",
    "    best_found_route = route\n",
    "    while improved:\n",
    "        improved = False\n",
    "        for (i, j, k) in possible_segments(len(graph)):\n",
    "            # we check all the possible moves and save the result into the dict\n",
    "            for opt_case in OptCase:\n",
    "                moves_cost[opt_case] = get_solution_cost_change(graph, best_found_route, opt_case, i, j, k)\n",
    "            # we need the minimum value of substraction of old route - new route\n",
    "            best_return = max(moves_cost, key=moves_cost.get)\n",
    "            if moves_cost[best_return] > 0:\n",
    "                best_found_route = reverse_segments(best_found_route, best_return, i, j, k)\n",
    "                improved = True\n",
    "                break\n",
    "    # just to start with the same node -> we will need to cycle the results.\n",
    "    cycled = cycle(best_found_route)\n",
    "    skipped = dropwhile(lambda x: x != 0, cycled)\n",
    "    sliced = islice(skipped, None, len(best_found_route))\n",
    "    best_found_route = list(sliced)\n",
    "    return best_found_route\n",
    "\n",
    "\n",
    "def possible_segments(N):\n",
    "    \"\"\" Generate the combination of segments \"\"\"\n",
    "    segments = ((i, j, k) for i in range(N) for j in range(i + 2, N-1) for k in range(j + 2, N - 1 + (i > 0)))\n",
    "    return segments\n",
    "\n",
    "\n",
    "def get_solution_cost_change(graph, route, case, i, j, k):\n",
    "    \"\"\" Compare current solution with 7 possible 3-opt moves\"\"\"\n",
    "    A, B, C, D, E, F = route[i - 1], route[i], route[j - 1], route[j], route[k - 1], route[k % len(route)]\n",
    "    if case == OptCase.opt_case_1:\n",
    "        # first case is the current solution ABC\n",
    "        return 0\n",
    "    elif case == OptCase.opt_case_2:\n",
    "        # second case is the case A'BC\n",
    "        return graph[A, B] + graph[E, F] - (graph[B, F] + graph[A, E])\n",
    "    elif case == OptCase.opt_case_3:\n",
    "        # ABC'\n",
    "        return graph[C, D] + graph[E, F] - (graph[D, F] + graph[C, E])\n",
    "    elif case == OptCase.opt_case_4:\n",
    "        # A'BC'\n",
    "        return graph[A, B] + graph[C, D] + graph[E, F] - (graph[A, D] + graph[B, F] + graph[E, C])\n",
    "    elif case == OptCase.opt_case_5:\n",
    "        # A'B'C\n",
    "        return graph[A, B] + graph[C, D] + graph[E, F] - (graph[C, F] + graph[B, D] + graph[E, A])\n",
    "    elif case == OptCase.opt_case_6:\n",
    "        # AB'C\n",
    "        return graph[B, A] + graph[D, C] - (graph[C, A] + graph[B, D])\n",
    "    elif case == OptCase.opt_case_7:\n",
    "        # AB'C'\n",
    "        return graph[A, B] + graph[C, D] + graph[E, F] - (graph[B, E] + graph[D, F] + graph[C, A])\n",
    "    elif case == OptCase.opt_case_8:\n",
    "        # A'B'C\n",
    "        return graph[A, B] + graph[C, D] + graph[E, F] - (graph[A, D] + graph[C, F] + graph[B, E])\n",
    "\n",
    "def reverse_segments(route, case, i, j, k):\n",
    "    if (i - 1) < (k % len(route)):\n",
    "        first_segment = route[k% len(route):] + route[:i]\n",
    "    else:\n",
    "        first_segment = route[k % len(route):i]\n",
    "    second_segment = route[i:j]\n",
    "    third_segment = route[j:k]\n",
    "\n",
    "    if case == OptCase.opt_case_1:\n",
    "        # first case is the current solution ABC\n",
    "        pass\n",
    "    elif case == OptCase.opt_case_2:\n",
    "        # A'BC\n",
    "        solution = list(reversed(first_segment)) + second_segment + third_segment\n",
    "    elif case == OptCase.opt_case_3:\n",
    "        # ABC'\n",
    "        solution = first_segment + second_segment + list(reversed(third_segment))\n",
    "    elif case == OptCase.opt_case_4:\n",
    "        # A'BC'\n",
    "        solution = list(reversed(first_segment)) + second_segment + list(reversed(third_segment))\n",
    "    elif case == OptCase.opt_case_5:\n",
    "        # A'B'C\n",
    "        solution = list(reversed(first_segment)) + list(reversed(second_segment)) + third_segment\n",
    "    elif case == OptCase.opt_case_6:\n",
    "        # AB'C\n",
    "        solution = first_segment + list(reversed(second_segment)) + third_segment\n",
    "    elif case == OptCase.opt_case_7:\n",
    "        # AB'C'\n",
    "        solution = first_segment + list(reversed(second_segment)) + list(reversed(third_segment))\n",
    "    elif case == OptCase.opt_case_8:\n",
    "        # A'B'C\n",
    "        solution = list(reversed(first_segment)) + list(reversed(second_segment)) + list(reversed(third_segment))\n",
    "    return solution"
   ]
  },
  {
   "cell_type": "markdown",
   "metadata": {},
   "source": [
    "Graph Initialization and Print Out"
   ]
  },
  {
   "cell_type": "code",
   "execution_count": 35,
   "metadata": {},
   "outputs": [
    {
     "name": "stdout",
     "output_type": "stream",
     "text": [
      "Final Tour [0, 6, 1, 4, 5, 2, 3]\n",
      "Cost of Tour 29\n"
     ]
    }
   ],
   "source": [
    "#Use this to read in data sets, replace \"TSP1.txt\" with the name of the file\n",
    "data=np.array(pd.read_csv('3OPTBAD.txt', header=None, sep='\\s+', engine='python'))\n",
    "\n",
    "#If you want to manually build a distance matrix, you can do so here:\n",
    "# graph = np.array([\n",
    "# [0,2,80,1,80,80],\n",
    "# [2,0, 2, 80,1,80],\n",
    "# [80,2,0,2,80,1],\n",
    "# [1,80,2,0,2,80],\n",
    "# [80,1,80,2,0,2],\n",
    "#     [2,80,1,80,2,0]\n",
    "# ])\n",
    "\n",
    "#change input to from \"data\" to \"graph\" when using a manually built matrix \n",
    "Tour = tsp_3_opt(data)\n",
    "print(\"Final Tour\", Tour)\n",
    "print(\"Cost of Tour\", cost(data, Tour))"
   ]
  },
  {
   "cell_type": "markdown",
   "metadata": {},
   "source": [
    " "
   ]
  },
  {
   "cell_type": "markdown",
   "metadata": {},
   "source": [
    "# TSP Code:"
   ]
  },
  {
   "cell_type": "code",
   "execution_count": 9,
   "metadata": {},
   "outputs": [
    {
     "name": "stdout",
     "output_type": "stream",
     "text": [
      "Requirement already satisfied: numpy in c:\\users\\toadh\\anaconda3\\lib\\site-packages (1.19.2)\n"
     ]
    }
   ],
   "source": [
    "# Install a pip package in the current Jupyter kernel\n",
    "import sys\n",
    "!{sys.executable} -m pip install numpy"
   ]
  },
  {
   "cell_type": "code",
   "execution_count": 10,
   "metadata": {},
   "outputs": [
    {
     "name": "stdout",
     "output_type": "stream",
     "text": [
      "Requirement already satisfied: python-tsp in c:\\users\\toadh\\anaconda3\\lib\\site-packages (0.2.1)\n",
      "Requirement already satisfied: tsplib95<0.8.0,>=0.7.1 in c:\\users\\toadh\\anaconda3\\lib\\site-packages (from python-tsp) (0.7.1)\n",
      "Requirement already satisfied: numpy<2.0.0,>=1.18.5 in c:\\users\\toadh\\anaconda3\\lib\\site-packages (from python-tsp) (1.19.2)\n",
      "Requirement already satisfied: Click>=6.0 in c:\\users\\toadh\\anaconda3\\lib\\site-packages (from tsplib95<0.8.0,>=0.7.1->python-tsp) (7.1.2)\n",
      "Requirement already satisfied: networkx~=2.1 in c:\\users\\toadh\\anaconda3\\lib\\site-packages (from tsplib95<0.8.0,>=0.7.1->python-tsp) (2.5)\n",
      "Note: you may need to restart the kernel to use updated packages.\n",
      "Requirement already satisfied: Deprecated~=1.2.9 in c:\\users\\toadh\\anaconda3\\lib\\site-packages (from tsplib95<0.8.0,>=0.7.1->python-tsp) (1.2.13)\n",
      "Requirement already satisfied: tabulate~=0.8.7 in c:\\users\\toadh\\anaconda3\\lib\\site-packages (from tsplib95<0.8.0,>=0.7.1->python-tsp) (0.8.9)\n",
      "Requirement already satisfied: decorator>=4.3.0 in c:\\users\\toadh\\anaconda3\\lib\\site-packages (from networkx~=2.1->tsplib95<0.8.0,>=0.7.1->python-tsp) (4.4.2)\n",
      "Requirement already satisfied: wrapt<2,>=1.10 in c:\\users\\toadh\\anaconda3\\lib\\site-packages (from Deprecated~=1.2.9->tsplib95<0.8.0,>=0.7.1->python-tsp) (1.11.2)\n"
     ]
    }
   ],
   "source": [
    "pip install python-tsp"
   ]
  },
  {
   "cell_type": "code",
   "execution_count": 36,
   "metadata": {
    "scrolled": true
   },
   "outputs": [
    {
     "name": "stdout",
     "output_type": "stream",
     "text": [
      "Final Tour [0, 1, 4, 5, 2, 6, 3]\n",
      "Total Cost 28\n"
     ]
    }
   ],
   "source": [
    "import numpy as np\n",
    "from python_tsp.exact import solve_tsp_dynamic_programming\n",
    "\n",
    "\n",
    "# distance_matrix = np.array([\n",
    "#     [0,  5, 4, 10],\n",
    "#     [5,  0, 8,  5],\n",
    "#     [4,  8, 0,  3],\n",
    "#     [10, 5, 3,  0]\n",
    "# ])\n",
    "permutation, distance = solve_tsp_dynamic_programming(data)\n",
    "\n",
    "print(\"Final Tour\", permutation)\n",
    "print(\"Total Cost\", distance)"
   ]
  },
  {
   "cell_type": "code",
   "execution_count": null,
   "metadata": {},
   "outputs": [],
   "source": []
  }
 ],
 "metadata": {
  "kernelspec": {
   "display_name": "Python 3",
   "language": "python",
   "name": "python3"
  },
  "language_info": {
   "codemirror_mode": {
    "name": "ipython",
    "version": 3
   },
   "file_extension": ".py",
   "mimetype": "text/x-python",
   "name": "python",
   "nbconvert_exporter": "python",
   "pygments_lexer": "ipython3",
   "version": "3.8.5"
  }
 },
 "nbformat": 4,
 "nbformat_minor": 4
}
